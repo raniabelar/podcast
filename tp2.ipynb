{
  "nbformat": 4,
  "nbformat_minor": 0,
  "metadata": {
    "colab": {
      "provenance": [],
      "authorship_tag": "ABX9TyPYZJKxeICZ20NW9cGSD1Cq",
      "include_colab_link": true
    },
    "kernelspec": {
      "name": "python3",
      "display_name": "Python 3"
    },
    "language_info": {
      "name": "python"
    }
  },
  "cells": [
    {
      "cell_type": "markdown",
      "metadata": {
        "id": "view-in-github",
        "colab_type": "text"
      },
      "source": [
        "<a href=\"https://colab.research.google.com/github/raniabelar/podcast/blob/main/tp2.ipynb\" target=\"_parent\"><img src=\"https://colab.research.google.com/assets/colab-badge.svg\" alt=\"Open In Colab\"/></a>"
      ]
    },
    {
      "cell_type": "markdown",
      "source": [
        "exercice 1:"
      ],
      "metadata": {
        "id": "BjTvA83qHIWg"
      }
    },
    {
      "cell_type": "code",
      "execution_count": 2,
      "metadata": {
        "id": "8q7H2cOi-Oh0"
      },
      "outputs": [],
      "source": [
        "mydict={'A':'one','B':'two','C':'three','D':'four'}"
      ]
    },
    {
      "cell_type": "code",
      "source": [
        "mydict= dict([('A','one'),('B','two'),('C','three'),('D','four')])"
      ],
      "metadata": {
        "id": "xAjS-ZtM_CHR"
      },
      "execution_count": 4,
      "outputs": []
    },
    {
      "cell_type": "code",
      "source": [
        "mydict = {'A': 'one', 'B': 'two', 'C': 'three', 'D': 'four'}\n",
        "x= mydict['B']\n",
        "print(f\"La valeur associée à la clé 'B' est : {x}\")"
      ],
      "metadata": {
        "colab": {
          "base_uri": "https://localhost:8080/"
        },
        "id": "gQA4iDpoAYhH",
        "outputId": "2c06c09a-9309-4b5c-d577-523fce317868"
      },
      "execution_count": 6,
      "outputs": [
        {
          "output_type": "stream",
          "name": "stdout",
          "text": [
            "La valeur associée à la clé 'B' est : two\n"
          ]
        }
      ]
    },
    {
      "cell_type": "code",
      "source": [
        "mydict = {('A,1'): 'one', ('B',2): 'two', ('C',3): 'three', ('D',4): 'four'}\n",
        "x= mydict[('B',2)]\n",
        "print(f\"La valeur associée à la clé ()'B',2) est : {x}\")"
      ],
      "metadata": {
        "colab": {
          "base_uri": "https://localhost:8080/"
        },
        "id": "VhYM6k1QBQce",
        "outputId": "36990e76-9f51-48c1-8f5f-2add952ea7f3"
      },
      "execution_count": 7,
      "outputs": [
        {
          "output_type": "stream",
          "name": "stdout",
          "text": [
            "La valeur associée à la clé ()'B',2) est : two\n"
          ]
        }
      ]
    },
    {
      "cell_type": "code",
      "source": [
        "mydict = {('A,1'): 'one', ('B',2): 'two', ('C',3): 'three', ('D',4): 'four'}\n",
        "x= mydict.keys()\n",
        "print(\"Les clés du dictionnaire :\", x)"
      ],
      "metadata": {
        "colab": {
          "base_uri": "https://localhost:8080/"
        },
        "id": "1VvZdZOSB7PB",
        "outputId": "bcff9ce2-e29e-434e-b0ea-fa8ced271dfa"
      },
      "execution_count": 8,
      "outputs": [
        {
          "output_type": "stream",
          "name": "stdout",
          "text": [
            "Les clés du dictionnaire : dict_keys(['A,1', ('B', 2), ('C', 3), ('D', 4)])\n"
          ]
        }
      ]
    },
    {
      "cell_type": "code",
      "source": [
        "mydict = {('A,1'): 'one', ('B',2): 'two', ('C',3): 'three', ('D',4): 'four'}\n",
        "x= mydict.values()\n",
        "print(\"Les valeurs du dictionnaire :\", x)"
      ],
      "metadata": {
        "colab": {
          "base_uri": "https://localhost:8080/"
        },
        "id": "YH2P_ZUPCis_",
        "outputId": "6cc917db-3aeb-4a55-d413-75714c7dc97a"
      },
      "execution_count": 9,
      "outputs": [
        {
          "output_type": "stream",
          "name": "stdout",
          "text": [
            "Les valeurs du dictionnaire : dict_values(['one', 'two', 'three', 'four'])\n"
          ]
        }
      ]
    },
    {
      "cell_type": "code",
      "source": [
        "mydict = {('A', 1): 'one', ('B', 2): 'two', ('C', 3): 'three', ('D', 4): 'four'}\n",
        "for x, y in mydict.items():\n",
        "    print(f\"Clé : {x}  Valeur : {y}\")"
      ],
      "metadata": {
        "colab": {
          "base_uri": "https://localhost:8080/"
        },
        "id": "jIjLZGXADtJt",
        "outputId": "0a9260df-5072-4921-8670-996060a8e46b"
      },
      "execution_count": 16,
      "outputs": [
        {
          "output_type": "stream",
          "name": "stdout",
          "text": [
            "Clé : ('A', 1)  Valeur : one\n",
            "Clé : ('B', 2)  Valeur : two\n",
            "Clé : ('C', 3)  Valeur : three\n",
            "Clé : ('D', 4)  Valeur : four\n"
          ]
        }
      ]
    },
    {
      "cell_type": "code",
      "source": [
        "mydict1 = {'Name': 'Yassine', 'ID': 74123, 'DOB': 1991, 'job': 'Analyst'}\n",
        "nom = mydict1['Name']\n",
        "print(f\"Nom : {nom}\")\n",
        "id = mydict1.get('ID')\n",
        "print(f\"ID : {id}\")"
      ],
      "metadata": {
        "colab": {
          "base_uri": "https://localhost:8080/"
        },
        "id": "DCwCl_BiFrES",
        "outputId": "db4c5047-59f3-4a63-b642-2a3eb8362da1"
      },
      "execution_count": 18,
      "outputs": [
        {
          "output_type": "stream",
          "name": "stdout",
          "text": [
            "Nom : Yassine\n",
            "ID : 74123\n"
          ]
        }
      ]
    },
    {
      "cell_type": "code",
      "source": [
        "mydict1['DOB'] = 1994\n",
        "mydict1['Address'] = 'Tunis'\n",
        "print(mydict1)"
      ],
      "metadata": {
        "colab": {
          "base_uri": "https://localhost:8080/"
        },
        "id": "PBclgxZoGVKZ",
        "outputId": "c93245cf-585b-41af-e1d9-48f28be6df12"
      },
      "execution_count": 19,
      "outputs": [
        {
          "output_type": "stream",
          "name": "stdout",
          "text": [
            "{'Name': 'Yassine', 'ID': 74123, 'DOB': 1994, 'job': 'Analyst', 'Address': 'Tunis'}\n"
          ]
        }
      ]
    },
    {
      "cell_type": "code",
      "source": [
        "nombre = 7\n",
        "if (nombre % 2 != 0) and (nombre % 3 != 0):\n",
        "    print(f\"Le nombre {nombre} n'est ni pair ni multiple de 3.\")\n",
        "else:\n",
        "    print(f\"Le nombre {nombre} est soit pair soit multiple de 3.\")"
      ],
      "metadata": {
        "colab": {
          "base_uri": "https://localhost:8080/"
        },
        "id": "-3tWjszGGpEi",
        "outputId": "c6eaeba6-231b-47c9-b942-7b55d649aedc"
      },
      "execution_count": 20,
      "outputs": [
        {
          "output_type": "stream",
          "name": "stdout",
          "text": [
            "Le nombre 7 n'est ni pair ni multiple de 3.\n"
          ]
        }
      ]
    },
    {
      "cell_type": "markdown",
      "source": [
        "exercice 2:"
      ],
      "metadata": {
        "id": "lrTa57QiHErO"
      }
    },
    {
      "cell_type": "code",
      "source": [
        "t1 = (\"abb\", \"ab\", \"aba\")\n",
        "t2 = (\"bb\", \"aba\", \"ba\")\n",
        "concat1 = \"\"\n",
        "concat2 = \"\"\n",
        "for i in range(3):\n",
        "  concat1 += t1[i]\n",
        "for i in range(3):\n",
        "  concat2 += t2[i]\n",
        "test = False\n",
        "for c1 in concat1:\n",
        "    if c1 in concat2:\n",
        "        test = True\n",
        "        break\n",
        "if test:\n",
        "    print(\"Il existe des indices qui rendent les concaténations égales.\")\n",
        "else:\n",
        "    print(\"Il n'existe pas d'indices pour égaliser les concaténations.\")\n"
      ],
      "metadata": {
        "colab": {
          "base_uri": "https://localhost:8080/"
        },
        "id": "L87dZNrMHQqB",
        "outputId": "9330607d-975d-4375-d210-040b931ab13f"
      },
      "execution_count": 22,
      "outputs": [
        {
          "output_type": "stream",
          "name": "stdout",
          "text": [
            "Il existe des indices qui rendent les concaténations égales.\n"
          ]
        }
      ]
    },
    {
      "cell_type": "markdown",
      "source": [
        "exercice 3"
      ],
      "metadata": {
        "id": "PLoNIKWQK8ST"
      }
    },
    {
      "cell_type": "code",
      "source": [
        "n = 3\n",
        "x = 'A'\n",
        "y = 'C'\n",
        "z = 'B'\n",
        "moves = []\n",
        "total_moves = 2 ** n - 1\n",
        "for i in range(total_moves):\n",
        "    if i % 3 == 0:\n",
        "        move_from = x if (i // 3) % 2 == 0 else y\n",
        "        move_to = y if move_from == x else x\n",
        "    elif i % 3 == 1:\n",
        "        move_from = x if (i // 3) % 2 == 0 else z\n",
        "        move_to = z if move_from == x else x\n",
        "    else:\n",
        "        move_from = z if (i // 3) % 2 == 0 else y\n",
        "        move_to = y if move_from == z else z\n",
        "    moves.append(f\"Déplacer le disque {(i % n) + 1} de {move_from} à {move_to}\")\n",
        "for move in moves:\n",
        "    print(move)"
      ],
      "metadata": {
        "colab": {
          "base_uri": "https://localhost:8080/"
        },
        "id": "NreejevcK-9S",
        "outputId": "128bac7d-f203-403d-f2e8-30e658dea3ef"
      },
      "execution_count": 23,
      "outputs": [
        {
          "output_type": "stream",
          "name": "stdout",
          "text": [
            "Déplacer le disque 1 de A à C\n",
            "Déplacer le disque 2 de A à B\n",
            "Déplacer le disque 3 de B à C\n",
            "Déplacer le disque 1 de C à A\n",
            "Déplacer le disque 2 de B à A\n",
            "Déplacer le disque 3 de C à B\n",
            "Déplacer le disque 1 de A à C\n"
          ]
        }
      ]
    },
    {
      "cell_type": "markdown",
      "source": [
        "exercice 4"
      ],
      "metadata": {
        "id": "LXLxs0hyMSWs"
      }
    },
    {
      "cell_type": "code",
      "source": [
        "graph = {\n",
        "    'A': ['B', 'C'],\n",
        "    'B': ['A', 'C', 'D'],\n",
        "    'C': ['A', 'B', 'D'],\n",
        "    'D': ['B', 'C', 'E'],\n",
        "    'E': ['D']\n",
        "}\n",
        "for node, adjacents in graph.items():\n",
        "    print(f\"{node}: {adjacents}\")"
      ],
      "metadata": {
        "colab": {
          "base_uri": "https://localhost:8080/"
        },
        "id": "VPKg48TPMTx7",
        "outputId": "6b01071a-7c4d-4b87-eb7a-d1f06799d857"
      },
      "execution_count": 24,
      "outputs": [
        {
          "output_type": "stream",
          "name": "stdout",
          "text": [
            "A: ['B', 'C']\n",
            "B: ['A', 'C', 'D']\n",
            "C: ['A', 'B', 'D']\n",
            "D: ['B', 'C', 'E']\n",
            "E: ['D']\n"
          ]
        }
      ]
    },
    {
      "cell_type": "markdown",
      "source": [
        "exercice 5"
      ],
      "metadata": {
        "id": "zkQeCiPnM4j4"
      }
    },
    {
      "cell_type": "code",
      "source": [
        "start_node = 'A'\n",
        "dfs = set()\n",
        "stack = [start_node]\n",
        "print(\"DFS Traversal:\")\n",
        "while stack:\n",
        "    node = stack.pop()\n",
        "    if node not in dfs:\n",
        "        dfs.add(node)\n",
        "        print(node, end=' ')\n",
        "        for neighbor in graph[node]:\n",
        "            if neighbor not in dfs:\n",
        "                stack.append(neighbor)"
      ],
      "metadata": {
        "colab": {
          "base_uri": "https://localhost:8080/"
        },
        "id": "SF0oWKUeM7PV",
        "outputId": "a541f886-7d81-4373-b545-22b1d173e788"
      },
      "execution_count": 25,
      "outputs": [
        {
          "output_type": "stream",
          "name": "stdout",
          "text": [
            "DFS Traversal:\n",
            "A C D E B "
          ]
        }
      ]
    },
    {
      "cell_type": "markdown",
      "source": [
        "exercice 6"
      ],
      "metadata": {
        "id": "s1nvrV4nQJHv"
      }
    },
    {
      "cell_type": "code",
      "source": [
        "import heapq\n",
        "graph = {\n",
        "    'A': {'B': 1, 'C': 4},\n",
        "    'B': {'C': 2, 'D': 5},\n",
        "    'C': {'D': 1},\n",
        "    'D': {'E': 3},\n",
        "    'E': {}\n",
        "}\n",
        "start = 'A'\n",
        "end = 'E'\n",
        "distances = {vertex: float('infinity') for vertex in graph}\n",
        "distances[start] = 0\n",
        "priority_queue = [(0, start)]\n",
        "shortest_path = {vertex: None for vertex in graph}\n",
        "while priority_queue:\n",
        "    current_distance, current_vertex = heapq.heappop(priority_queue)\n",
        "    if current_distance > distances[current_vertex]:\n",
        "        continue\n",
        "    for neighbor, weight in graph[current_vertex].items():\n",
        "        distance = current_distance + weight\n",
        "        if distance < distances[neighbor]:\n",
        "            distances[neighbor] = distance\n",
        "            shortest_path[neighbor] = current_vertex\n",
        "            heapq.heappush(priority_queue, (distance, neighbor))\n",
        "path = []\n",
        "current_vertex = end\n",
        "while current_vertex is not None:\n",
        "    path.append(current_vertex)\n",
        "    current_vertex = shortest_path[current_vertex]\n",
        "path.reverse()\n",
        "print(f\"Le plus court chemin de {start} à {end} est : {path} avec une distance de {distances[end]}.\")"
      ],
      "metadata": {
        "id": "zAcZrBPiQ2ZH"
      },
      "execution_count": null,
      "outputs": []
    },
    {
      "cell_type": "markdown",
      "source": [
        "exercice 7:"
      ],
      "metadata": {
        "id": "AOSy-5sxQ3-F"
      }
    },
    {
      "cell_type": "code",
      "source": [
        "graph = [\n",
        "    ('A', 'B', 1),\n",
        "    ('A', 'C', 4),\n",
        "    ('B', 'C', 2),\n",
        "    ('B', 'D', 5),\n",
        "    ('C', 'D', 1),\n",
        "    ('D', 'E', 3),\n",
        "    ('C', 'B', -3)\n",
        "]\n",
        "\n",
        "start = 'A'\n",
        "vertices = {edge[0] for edge in graph}.union({edge[1] for edge in graph})\n",
        "distances = {vertex: float('infinity') for vertex in vertices}\n",
        "distances[start] = 0\n",
        "\n",
        "for _ in range(len(vertices) - 1):\n",
        "    for u, v, weight in graph:\n",
        "        if distances[u] + weight < distances[v]:\n",
        "            distances[v] = distances[u] + weight\n",
        "\n",
        "has_negative_cycle = False\n",
        "for u, v, weight in graph:\n",
        "    if distances[u] + weight < distances[v]:\n",
        "        has_negative_cycle = True\n",
        "        break\n",
        "\n",
        "if has_negative_cycle:\n",
        "    print(\"Le graphe contient un cycle négatif.\")\n",
        "else:\n",
        "    for vertex, distance in distances.items():\n",
        "        print(f\"La distance la plus courte de {start} à {vertex} est {distance}.\")"
      ],
      "metadata": {
        "id": "0TjYfFdyRlWt"
      },
      "execution_count": null,
      "outputs": []
    },
    {
      "cell_type": "markdown",
      "source": [
        "exercice 8"
      ],
      "metadata": {
        "id": "cyBzrliYSCq4"
      }
    },
    {
      "cell_type": "code",
      "source": [
        "from collections import defaultdict, deque\n",
        "graph = {\n",
        "    'A': {'B': 3, 'C': 6},\n",
        "    'B': {'C': 4, 'D': 4, 'E': 11},\n",
        "    'C': {'D': 8, 'E': 5},\n",
        "    'D': {'E': -4},\n",
        "    'E': {}\n",
        "}\n",
        "def topological_sort(graph):\n",
        "    in_degree = {u: 0 for u in graph}\n",
        "    for u in graph:\n",
        "        for v in graph[u]:\n",
        "            in_degree[v] += 1\n",
        "\n",
        "    queue = deque([u for u in graph if in_degree[u] == 0])\n",
        "    topo_order = []\n",
        "\n",
        "    while queue:\n",
        "        u = queue.popleft()\n",
        "        topo_order.append(u)\n",
        "        for v in graph[u]:\n",
        "            in_degree[v] -= 1\n",
        "            if in_degree[v] == 0:\n",
        "                queue.append(v)\n",
        "\n",
        "    return topo_order\n",
        "start = 'A'\n",
        "topo_order = topological_sort(graph)\n",
        "distances = {u: float('-inf') for u in graph}\n",
        "distances[start] = 0\n",
        "\n",
        "for u in topo_order:\n",
        "    if distances[u] != float('-inf'):\n",
        "        for v, weight in graph[u].items():\n",
        "            if distances[v] < distances[u] + weight:\n",
        "                distances[v] = distances[u] + weight\n",
        "for vertex, distance in distances.items():\n",
        "    if distance == float('-inf'):\n",
        "        print(f\"La distance la plus longue de {start} à {vertex} est : Pas atteignable\")\n",
        "    else:\n",
        "        print(f\"La distance la plus longue de {start} à {vertex} est : {distance}\")"
      ],
      "metadata": {
        "id": "m8hewF7lSExj"
      },
      "execution_count": null,
      "outputs": []
    },
    {
      "cell_type": "markdown",
      "source": [
        "exercice 9"
      ],
      "metadata": {
        "id": "0YjWP_OlSbqU"
      }
    },
    {
      "cell_type": "code",
      "source": [
        "list =[29, 10, 14, 37, 13]\n",
        "for i in range(len(list)):\n",
        "    min_index = i\n",
        "    for j in range(i + 1, len(list)):\n",
        "        if list[j] < list[min_index]:\n",
        "            min_index = j\n",
        "    list[i], list[min_index] = list[min_index], list[i]\n",
        "\n",
        "print(\"Tri par sélection :\", list)"
      ],
      "metadata": {
        "id": "pgt1tQGfSc42"
      },
      "execution_count": null,
      "outputs": []
    },
    {
      "cell_type": "code",
      "source": [
        "list = [64, 34, 25, 12, 22, 11, 90]\n",
        "\n",
        "n = len(list)\n",
        "for i in range(n):\n",
        "    for j in range(0, n - i - 1):\n",
        "        if list[j] > list[j + 1]:\n",
        "            list[j], list[j + 1] = list[j + 1],list[j]\n",
        "\n",
        "print(\"Tri à bulles :\", list)"
      ],
      "metadata": {
        "id": "C4nnIC2rTPdJ"
      },
      "execution_count": null,
      "outputs": []
    },
    {
      "cell_type": "code",
      "source": [
        "list = [10, 7, 8, 9, 1, 5]\n",
        "if len(list) <= 1:\n",
        "    sorted_list = list\n",
        "else:\n",
        "    pivot = list[len(list) // 2]\n",
        "    left = [x for x in list if x < pivot]\n",
        "    middle = [x for x in list if x == pivot]\n",
        "    right = [x for x in list if x > pivot]\n",
        "    sorted_list = left + middle + right\n",
        "\n",
        "print(\"Tri rapide :\", sorted_list)"
      ],
      "metadata": {
        "id": "gwvUS-YwTjxn"
      },
      "execution_count": null,
      "outputs": []
    }
  ]
}